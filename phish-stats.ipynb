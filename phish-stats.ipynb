{
 "cells": [
  {
   "cell_type": "code",
   "execution_count": 35,
   "metadata": {},
   "outputs": [],
   "source": [
    "import pandas as pd\n",
    "import numpy as np\n",
    "import matplotlib as plt\n",
    "import json"
   ]
  },
  {
   "cell_type": "code",
   "execution_count": 36,
   "metadata": {},
   "outputs": [],
   "source": [
    "df_alltime_raw = pd.read_csv('./tests/data/output/alltime.csv')"
   ]
  },
  {
   "cell_type": "code",
   "execution_count": 37,
   "metadata": {},
   "outputs": [
    {
     "name": "stdout",
     "output_type": "stream",
     "text": [
      "(1896, 18)\n",
      "city                   object\n",
      "country                object\n",
      "date                   object\n",
      "day                     int64\n",
      "encore2_song_count    float64\n",
      "encore_song_count     float64\n",
      "era                   float64\n",
      "month                   int64\n",
      "rating                float64\n",
      "relative_date          object\n",
      "set1_song_count       float64\n",
      "set2_song_count       float64\n",
      "set3_song_count       float64\n",
      "setlist                object\n",
      "state                  object\n",
      "total_song_count      float64\n",
      "venue                  object\n",
      "year                    int64\n",
      "dtype: object\n"
     ]
    }
   ],
   "source": [
    "print(df_alltime_raw.shape)\n",
    "print(df_alltime_raw.dtypes)"
   ]
  },
  {
   "cell_type": "code",
   "execution_count": 38,
   "metadata": {},
   "outputs": [],
   "source": [
    "# Filter out shows with no setlist\n",
    "mask = df_alltime['setlist'] != '[]'\n",
    "df_alltime = df_alltime_raw[mask]"
   ]
  },
  {
   "cell_type": "code",
   "execution_count": 39,
   "metadata": {},
   "outputs": [
    {
     "name": "stdout",
     "output_type": "stream",
     "text": [
      "(1714, 18)\n",
      "city                   object\n",
      "country                object\n",
      "date                   object\n",
      "day                     int64\n",
      "encore2_song_count    float64\n",
      "encore_song_count     float64\n",
      "era                   float64\n",
      "month                   int64\n",
      "rating                float64\n",
      "relative_date          object\n",
      "set1_song_count       float64\n",
      "set2_song_count       float64\n",
      "set3_song_count       float64\n",
      "setlist                object\n",
      "state                  object\n",
      "total_song_count      float64\n",
      "venue                  object\n",
      "year                    int64\n",
      "dtype: object\n"
     ]
    }
   ],
   "source": [
    "print(df_alltime.shape)\n",
    "print(df_alltime.dtypes)"
   ]
  },
  {
   "cell_type": "code",
   "execution_count": null,
   "metadata": {},
   "outputs": [],
   "source": [
    "# Songs\n",
    "count = 0\n",
    "songs = {}\n",
    "for i, setlist in enumerate(df_alltime.setlist):\n",
    "    setlist = json.loads(setlist)\n",
    "    for v in setlist:\n",
    "        song = v.get('song_id')\n",
    "        song_exists = song in songs.keys()\n",
    "        if not song_exists:\n",
    "            if song == 'tube':\n",
    "                print(v, count)\n",
    "                import pdb; pdb.set_trace()\n",
    "            songs[song] = count\n",
    "\n",
    "            count += 1\n",
    "            \n",
    "for i, v in songs.items():\n",
    "    print(i, v)\n",
    "        \n"
   ]
  },
  {
   "cell_type": "code",
   "execution_count": 46,
   "metadata": {},
   "outputs": [
    {
     "name": "stdout",
     "output_type": "stream",
     "text": [
      "[{'song_id': 'tube', 'element_type': 'song', 'song_url': 'http://phish.net/song/tube', 'set_label': 'Set 1', 'notes': []}, {'song_id': 'my-minds-got-a-mind-of-its-own', 'element_type': 'song', 'song_url': 'http://phish.net/song/my-minds-got-a-mind-of-its-own', 'set_label': 'Set 1', 'notes': []}, {'song_id': 'the-sloth', 'element_type': 'song', 'song_url': 'http://phish.net/song/the-sloth', 'set_label': 'Set 1', 'notes': []}, {'song_id': 'nicu', 'element_type': 'song', 'song_url': 'http://phish.net/song/nicu', 'set_label': 'Set 1', 'notes': []}, {'song_id': 'stash', 'element_type': 'song', 'song_url': 'http://phish.net/song/stash', 'set_label': 'Set 1', 'notes': [{'note_id': 1, 'element_type': 'note', 'body': 'Unfinished.'}]}, {'song_id': 'horn', 'element_type': 'song', 'song_url': 'http://phish.net/song/horn', 'set_label': 'Set 1', 'notes': []}, {'song_id': 'waste', 'element_type': 'song', 'song_url': 'http://phish.net/song/waste', 'set_label': 'Set 1', 'notes': []}, {'song_id': 'chalk-dust-torture', 'element_type': 'song', 'song_url': 'http://phish.net/song/chalk-dust-torture', 'set_label': 'Set 1', 'notes': []}, {'song_id': 'punch-you-in-the-eye', 'element_type': 'song', 'song_url': 'http://phish.net/song/punch-you-in-the-eye', 'set_label': 'Set 2', 'notes': []}, {'song_id': 'simple', 'element_type': 'song', 'song_url': 'http://phish.net/song/simple', 'set_label': 'Set 2', 'notes': []}, {'song_id': 'birds-of-a-feather', 'element_type': 'song', 'song_url': 'http://phish.net/song/birds-of-a-feather', 'set_label': 'Set 2', 'notes': [{'note_id': 2, 'element_type': 'note', 'body': 'Debut.'}]}, {'song_id': 'wolfmans-brother', 'element_type': 'song', 'song_url': 'http://phish.net/song/wolfmans-brother', 'set_label': 'Set 2', 'notes': []}, {'song_id': 'sneakin-sally-through-the-alley', 'element_type': 'song', 'song_url': 'http://phish.net/song/sneakin-sally-through-the-alley', 'set_label': 'Set 2', 'notes': [{'note_id': 3, 'element_type': 'note', 'body': 'No vocal jam.'}]}, {'song_id': 'frankie-says', 'element_type': 'song', 'song_url': 'http://phish.net/song/frankie-says', 'set_label': 'Set 2', 'notes': [{'note_id': 2, 'element_type': 'note', 'body': 'Debut.'}]}, {'song_id': 'twist', 'element_type': 'song', 'song_url': 'http://phish.net/song/twist', 'set_label': 'Set 2', 'notes': []}, {'song_id': 'sleeping-monkey', 'element_type': 'song', 'song_url': 'http://phish.net/song/sleeping-monkey', 'set_label': 'Set 2', 'notes': []}, {'song_id': 'rocky-top', 'element_type': 'song', 'song_url': 'http://phish.net/song/rocky-top', 'set_label': 'Set 2', 'notes': []}, {'song_id': 'guyute', 'element_type': 'song', 'song_url': 'http://phish.net/song/guyute', 'set_label': 'Encore', 'notes': []}]\n"
     ]
    }
   ],
   "source": [
    "songs = {}\n",
    "shows = []\n",
    "\n",
    "for i, setlist in enumerate(df_alltime.setlist):\n",
    "    setlist = json.loads(setlist)\n",
    "    if i == 0:\n",
    "        print(setlist)\n"
   ]
  },
  {
   "cell_type": "code",
   "execution_count": null,
   "metadata": {},
   "outputs": [],
   "source": [
    "df_alltime\n"
   ]
  },
  {
   "cell_type": "code",
   "execution_count": null,
   "metadata": {},
   "outputs": [],
   "source": []
  }
 ],
 "metadata": {
  "kernelspec": {
   "display_name": "Python 3",
   "language": "python",
   "name": "python3"
  },
  "language_info": {
   "codemirror_mode": {
    "name": "ipython",
    "version": 3
   },
   "file_extension": ".py",
   "mimetype": "text/x-python",
   "name": "python",
   "nbconvert_exporter": "python",
   "pygments_lexer": "ipython3",
   "version": "3.6.6"
  }
 },
 "nbformat": 4,
 "nbformat_minor": 2
}
